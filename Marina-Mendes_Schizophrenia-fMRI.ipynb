{
 "cells": [
  {
   "cell_type": "markdown",
   "metadata": {},
   "source": [
    "### Programming for Psychologists (2024/2025)\n",
    "## Home Assignment - Brain Imaging for Schizophrenia\n",
    "**Course code:** M_PROPSY\\\n",
    "**Course coordinator:** Matthias Nau\\\n",
    "**Teaching assistant:** Anna van Harmelen\\\n",
    "**Student:** Marina Saraiva Mendes\\\n",
    "**Date:** 26/11/2024"
   ]
  },
  {
   "cell_type": "markdown",
   "metadata": {},
   "source": [
    "This is a home assignment for the course *Programming for Psychologists*, at the Vrije Universiteit of Amsterdam. It consists of analysis of fMRI data to examine brain activity associated with schizophrenia. The dataset used was sourced from [NeuroSynth](https://neurosynth.org/analyses/terms/schizophrenia/), a platform for meta-analytic studies of the brain.\n",
    "\n",
    "For the analysis, two files were used, which can be easily downloaded from the above-mentioned website, in the sections `schizophrenia: uniformity test`, and `anatomical`."
   ]
  },
  {
   "cell_type": "markdown",
   "metadata": {},
   "source": [
    "### Loading the files\n",
    "The fMRI data and the corresponding anatomical data were loaded using the [Nilearn](https://nilearn.github.io/stable/index.html) library. The file paths were identified using the **glob** module, which searches for files matching specific patterns. In this case: `*01.nii` for the functional MRI data, and `*anatomical.nii` for the anatomical image.\n",
    "\n",
    "**Note:** The fMRI and anatomical image files were saved in the same directory as the Python script in Visual Studio Code, which made it easier for the glob module to find and load them without requiring explicit directory paths."
   ]
  },
  {
   "cell_type": "code",
   "execution_count": null,
   "metadata": {},
   "outputs": [],
   "source": [
    "import glob\n",
    "from nilearn.image import load_img\n",
    "\n",
    "anatomical_image = load_img(glob.glob(\"*anatomical.nii\"))\n",
    "functional_image = load_img(glob.glob(\"*schizophrenia_uniformity-test_z_FDR_0.01.nii\"))\n",
    "\n",
    "#Note: If you haven't extracted the zip files, as I did, make sure to update the file extensions to \".nii.gz\"."
   ]
  },
  {
   "cell_type": "markdown",
   "metadata": {},
   "source": [
    "### Plotting the functional data on top of the anatomical scan\n",
    "\n",
    "In this section, we use [plotting.plot_stat_map](https://nilearn.github.io/dev/modules/generated/nilearn.plotting.plot_stat_map.html) to visualize brain activation for schizophrenia. The arguments provided include:\n",
    "- **stat_map_img**: This is the fMRI image to be plotted, corresponding to the brain activity.\n",
    "- **bg_img**: The anatomical image is used as a background for the statistical map.\n",
    "- **colorbar = True**: This adds a color bar to the plot, seen on the right corner.\n",
    "- **title**: The title of the plot.\n",
    "- **black_bg = True**: The background of the plot is set to black, improving contrast.\n",
    "- **cmap = \"afmhot\"**: The color map used. In this case, a red-yellow-black gradient.\n",
    "- **threshold = 0.1**: The voxel threshold is set at 0.1, so only regions with a statistical significance greater than 0.1 are visualized.\n",
    "- **cut_coords**: The coordinates at which to cut the brain. This is arbitrary, but the ones chosen are representatives of this specific functional data."
   ]
  },
  {
   "cell_type": "code",
   "execution_count": null,
   "metadata": {},
   "outputs": [],
   "source": [
    "from nilearn import plotting\n",
    "\n",
    "plotting.plot_stat_map(stat_map_img=functional_image,\n",
    "                       bg_img=anatomical_image,\n",
    "                       colorbar=True,\n",
    "                       title=\"Brain Activation for Schizophrenia (fMRI)\",\n",
    "                       black_bg=True,\n",
    "                       cmap=\"afmhot\",\n",
    "                       threshold=0.1,\n",
    "                       cut_coords=(-4,2,4))\n",
    "\n",
    "plotting.show()"
   ]
  },
  {
   "cell_type": "markdown",
   "metadata": {},
   "source": [
    "The output is expected to look like this:"
   ]
  },
  {
   "cell_type": "markdown",
   "metadata": {},
   "source": [
    "![alt text](ImageBrainActivation.png)"
   ]
  },
  {
   "cell_type": "markdown",
   "metadata": {},
   "source": [
    "### Plotting a histogram of the functional data\n",
    "\n",
    "For that, we will use Matplotlib's [pyplot.hist](https://matplotlib.org/stable/index.html). These are the arguments provided:\n",
    "- **x = functional_data [functional_data > 0]:** The input here is set for only positive values within the functional data.\n",
    "- **bins = 50:** Bins are the ranges of values that the data is grouped into, with fewer bins resulting in a more general view.\n",
    "- **color:** Specifies the color of the bars in the histogram.\n",
    "- **edgecolor:** Sets the color of the borders of the bars."
   ]
  },
  {
   "cell_type": "code",
   "execution_count": null,
   "metadata": {},
   "outputs": [],
   "source": [
    "import matplotlib.pyplot as plt\n",
    "\n",
    "#Since the data, rather than the image itself, will be used for plotting the histogram, we use the \"get_fdata\" function to extract it\n",
    "functional_data = load_img(functional_image).get_fdata()\n",
    "\n",
    "plt.hist(x=functional_data[functional_data > 0],\n",
    "         bins=50,\n",
    "         color=\"purple\",\n",
    "         edgecolor=\"black\")\n",
    "plt.title(\"Histogram of Functional Data for Schizophrenia\")\n",
    "plt.xlabel(\"Voxel Intensity Values\")\n",
    "plt.ylabel(\"Frequency\")\n",
    "plt.tight_layout() #This one is optional, only for improving the layout\n",
    "plt.grid(alpha=0.4)  # Add a light grid for better readability\n",
    "plt.show()"
   ]
  },
  {
   "cell_type": "markdown",
   "metadata": {},
   "source": [
    "The output should look like this:"
   ]
  },
  {
   "cell_type": "markdown",
   "metadata": {},
   "source": [
    "![alt text](ImageHistogram.png)"
   ]
  },
  {
   "cell_type": "markdown",
   "metadata": {},
   "source": [
    "#### Thank you!\n",
    "##### Please reach out if you have any further questions or suggestions!"
   ]
  }
 ],
 "metadata": {
  "kernelspec": {
   "display_name": "base",
   "language": "python",
   "name": "python3"
  },
  "language_info": {
   "codemirror_mode": {
    "name": "ipython",
    "version": 3
   },
   "file_extension": ".py",
   "mimetype": "text/x-python",
   "name": "python",
   "nbconvert_exporter": "python",
   "pygments_lexer": "ipython3",
   "version": "3.12.4"
  }
 },
 "nbformat": 4,
 "nbformat_minor": 2
}
